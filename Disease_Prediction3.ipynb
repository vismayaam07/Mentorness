{
  "nbformat": 4,
  "nbformat_minor": 0,
  "metadata": {
    "colab": {
      "provenance": []
    },
    "kernelspec": {
      "name": "python3",
      "display_name": "Python 3"
    },
    "language_info": {
      "name": "python"
    }
  },
  "cells": [
    {
      "cell_type": "markdown",
      "source": [
        "**Data loading and preprocessing**"
      ],
      "metadata": {
        "id": "RYC0UuHAqdth"
      }
    },
    {
      "cell_type": "code",
      "execution_count": 29,
      "metadata": {
        "id": "0wj4saUVPa9D"
      },
      "outputs": [],
      "source": [
        "import pandas as pd\n",
        "from sklearn.preprocessing import LabelEncoder\n",
        "from sklearn.model_selection import train_test_split\n",
        "\n",
        "# Load the training and testing datasets\n",
        "train_df = pd.read_csv(\"/content/drive/MyDrive/Train_data.csv\")\n",
        "test_df = pd.read_csv(\"/content/drive/MyDrive/test_data.csv\")\n",
        "\n",
        "# Concatenate train and test datasets for preprocessing\n",
        "combined_df = pd.concat([train_df, test_df], ignore_index=True)\n",
        "\n",
        "# Data Cleaning\n",
        "combined_df.dropna(inplace=True)\n",
        "\n",
        "# Perform label encoding for the Disease column\n",
        "le = LabelEncoder()\n",
        "combined_df['Disease'] = le.fit_transform(combined_df['Disease'])\n",
        "\n",
        "# Split data into features and target variable\n",
        "X = combined_df.drop(columns=['Disease'])  # Features\n",
        "y = combined_df['Disease']  # Target variable\n",
        "\n",
        "# Splitting the data into train and test sets\n",
        "X_train, X_test, y_train, y_test = train_test_split(X, y, test_size=0.2, random_state=42)\n"
      ]
    },
    {
      "cell_type": "markdown",
      "source": [
        "**Model initialization and training**"
      ],
      "metadata": {
        "id": "V_CtU0oPqpEO"
      }
    },
    {
      "cell_type": "code",
      "source": [
        "from sklearn.ensemble import RandomForestClassifier\n",
        "from sklearn.tree import DecisionTreeClassifier\n",
        "from sklearn.naive_bayes import GaussianNB\n",
        "from sklearn.pipeline import Pipeline\n",
        "from sklearn.preprocessing import StandardScaler\n",
        "from sklearn.model_selection import GridSearchCV\n",
        "\n",
        "# Initialize models with pipelines\n",
        "models = {\n",
        "    'Random Forest': Pipeline([('scaler', StandardScaler()), ('clf', RandomForestClassifier())]),\n",
        "    'Decision Tree': Pipeline([('scaler', StandardScaler()), ('clf', DecisionTreeClassifier())]),\n",
        "    'Naive Bayes': Pipeline([('scaler', StandardScaler()), ('clf', GaussianNB())])\n",
        "}\n",
        "\n",
        "# Hyperparameter tuning with GridSearchCV\n",
        "param_grid = {\n",
        "    'Random Forest': {'clf__n_estimators': [100, 200, 300]},\n",
        "    'Decision Tree': {'clf__max_depth': [None, 10, 20, 30]},\n",
        "    'Naive Bayes': {}\n",
        "}\n",
        "\n",
        "best_models = {}\n",
        "for name, model in models.items():\n",
        "    grid_search = GridSearchCV(model, param_grid[name], cv=5, scoring='f1_macro')\n",
        "    grid_search.fit(X_train, y_train)\n",
        "    best_models[name] = grid_search.best_estimator_\n"
      ],
      "metadata": {
        "id": "J6CusKFaPsf6"
      },
      "execution_count": 30,
      "outputs": []
    },
    {
      "cell_type": "markdown",
      "source": [
        "**Model evaluation**"
      ],
      "metadata": {
        "id": "sB3BrOqNq4bb"
      }
    },
    {
      "cell_type": "code",
      "source": [
        "from sklearn.metrics import precision_score, recall_score, f1_score\n",
        "from sklearn.model_selection import cross_val_score\n",
        "import warnings\n",
        "\n",
        "# Model evaluation\n",
        "results = {}\n",
        "for name, model in best_models.items():\n",
        "    scores = cross_val_score(model, X_train, y_train, cv=5, scoring='f1_macro')\n",
        "    with warnings.catch_warnings():\n",
        "        warnings.filterwarnings(\"ignore\", message=\"Precision is ill-defined and being set to 0.0 in labels with no predicted samples.\")\n",
        "        results[name] = {\n",
        "            'Accuracy': scores.mean(),\n",
        "            'Precision': precision_score(y_test, model.predict(X_test), average='macro', zero_division=1),\n",
        "            'Recall': recall_score(y_test, model.predict(X_test), average='macro'),\n",
        "            'F1-score': f1_score(y_test, model.predict(X_test), average='macro')\n",
        "        }\n",
        "\n",
        "# Display results\n",
        "results_df = pd.DataFrame(results).T\n",
        "print(\"Model Performance on Test Data:\")\n",
        "print(results_df)\n",
        "\n",
        "# Choose the best model based on F1-score\n",
        "best_model_name = results_df.idxmax()['F1-score']\n",
        "best_model = best_models[best_model_name]\n"
      ],
      "metadata": {
        "colab": {
          "base_uri": "https://localhost:8080/"
        },
        "id": "H4zNARd5q960",
        "outputId": "c20f1918-0e5e-483c-d5ff-f9480e6b793d"
      },
      "execution_count": 31,
      "outputs": [
        {
          "output_type": "stream",
          "name": "stdout",
          "text": [
            "Model Performance on Test Data:\n",
            "               Accuracy  Precision    Recall  F1-score\n",
            "Random Forest  0.800083   0.978947  0.814786  0.838484\n",
            "Decision Tree  0.844819   0.762464  0.778674  0.770080\n",
            "Naive Bayes    0.735341   0.886976  0.701421  0.709297\n"
          ]
        }
      ]
    },
    {
      "cell_type": "markdown",
      "source": [
        "**Prediction**"
      ],
      "metadata": {
        "id": "1xBE_9orq_WS"
      }
    },
    {
      "cell_type": "code",
      "source": [
        "# Hardcoded input data\n",
        "input_data = {\n",
        "    'Glucose': 0.413680476,\n",
        "    'Cholesterol': 0.536058397,\n",
        "    'Hemoglobin': 0.222889694,\n",
        "    'Platelets': 0.130596361,\n",
        "    'White Blood Cells': 0.678140913,\n",
        "    'Red Blood Cells': 0.832631669,\n",
        "    'Hematocrit': 0.461772312,\n",
        "    'Mean Corpuscular Volume': 0.388528562,\n",
        "    'Mean Corpuscular Hemoglobin': 0.33082952,\n",
        "    'Mean Corpuscular Hemoglobin Concentration': 0.496490935,\n",
        "    'Insulin': 0.118212034,\n",
        "    'BMI': 0.400445712,\n",
        "    'Systolic Blood Pressure': 0.743976602,\n",
        "    'Diastolic Blood Pressure': 0.831235426,\n",
        "    'Triglycerides': 0.943581849,\n",
        "    'HbA1c': 0.464659192,\n",
        "    'LDL Cholesterol': 0.167301875,\n",
        "    'HDL Cholesterol': 0.067760585,\n",
        "    'ALT': 0.121632728,\n",
        "    'AST': 0.384449662,\n",
        "    'Heart Rate': 0.928104624,\n",
        "    'Creatinine': 0.063159835,\n",
        "    'Troponin': 0.814727419,\n",
        "    'C-reactive Protein': 0.49286176\n",
        "}\n",
        "\n",
        "# Manual input and prediction function\n",
        "def predict_disease_manually(model):\n",
        "    input_features = pd.DataFrame(input_data, index=[0])\n",
        "    predicted_disease = model.predict(input_features)\n",
        "    return predicted_disease\n",
        "\n",
        "# Example of manual input and prediction using the best model\n",
        "print(f\"\\nUsing the best model ({best_model_name}):\")\n",
        "predicted_disease = predict_disease_manually(best_model)\n",
        "print(f\"Predicted disease: {le.inverse_transform(predicted_disease)}\")\n"
      ],
      "metadata": {
        "colab": {
          "base_uri": "https://localhost:8080/"
        },
        "id": "Afx8D9-jrDHL",
        "outputId": "394acc7e-85bf-4b84-b36a-1cb1512a1377"
      },
      "execution_count": 32,
      "outputs": [
        {
          "output_type": "stream",
          "name": "stdout",
          "text": [
            "\n",
            "Using the best model (Random Forest):\n",
            "Predicted disease: ['Thromboc']\n"
          ]
        }
      ]
    }
  ]
}