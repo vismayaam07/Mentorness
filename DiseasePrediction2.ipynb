{
  "nbformat": 4,
  "nbformat_minor": 0,
  "metadata": {
    "colab": {
      "provenance": [],
      "gpuType": "T4"
    },
    "kernelspec": {
      "name": "python3",
      "display_name": "Python 3"
    },
    "language_info": {
      "name": "python"
    },
    "accelerator": "GPU"
  },
  "cells": [
    {
      "cell_type": "code",
      "source": [
        "import pandas as pd\n",
        "from sklearn.model_selection import train_test_split\n",
        "from sklearn.preprocessing import StandardScaler\n",
        "from sklearn.ensemble import RandomForestClassifier, GradientBoostingClassifier\n",
        "from sklearn.svm import SVC\n",
        "from sklearn.metrics import f1_score"
      ],
      "metadata": {
        "id": "0uwITINeQ2Ny"
      },
      "execution_count": 22,
      "outputs": []
    },
    {
      "cell_type": "markdown",
      "source": [
        "\n",
        "**Load the data**"
      ],
      "metadata": {
        "id": "om_wLUXlebjc"
      }
    },
    {
      "cell_type": "code",
      "source": [
        "\n",
        "train_data = pd.read_csv('/content/drive/MyDrive/Train_data.csv')\n",
        "test_data = pd.read_csv('/content/drive/MyDrive/test_data.csv')"
      ],
      "metadata": {
        "id": "m2xENZRjeYyg"
      },
      "execution_count": 23,
      "outputs": []
    },
    {
      "cell_type": "markdown",
      "source": [
        "**Define features and target**"
      ],
      "metadata": {
        "id": "pm89oThqemLi"
      }
    },
    {
      "cell_type": "code",
      "source": [
        "\n",
        "features = ['Glucose', 'Cholesterol', 'Hemoglobin', 'Platelets', 'White Blood Cells', 'Red Blood Cells',\n",
        "            'Hematocrit', 'Mean Corpuscular Volume', 'Mean Corpuscular Hemoglobin',\n",
        "            'Mean Corpuscular Hemoglobin Concentration', 'Insulin', 'BMI', 'Systolic Blood Pressure',\n",
        "            'Diastolic Blood Pressure', 'Triglycerides', 'HbA1c', 'LDL Cholesterol', 'HDL Cholesterol',\n",
        "            'ALT', 'AST', 'Heart Rate', 'Creatinine', 'Troponin', 'C-reactive Protein']\n",
        "target = 'Disease'"
      ],
      "metadata": {
        "id": "zavRuz2YaoLH"
      },
      "execution_count": 24,
      "outputs": []
    },
    {
      "cell_type": "markdown",
      "source": [
        "**Preprocessing**"
      ],
      "metadata": {
        "id": "bB4-58jeesm0"
      }
    },
    {
      "cell_type": "code",
      "source": [
        "\n",
        "def preprocess_data(data):\n",
        "    scaler = StandardScaler()\n",
        "    scaled_data = scaler.fit_transform(data)\n",
        "    return scaled_data"
      ],
      "metadata": {
        "id": "YM3eerVlaZm0"
      },
      "execution_count": 25,
      "outputs": []
    },
    {
      "cell_type": "markdown",
      "source": [
        "**Split the data into train and validation sets**"
      ],
      "metadata": {
        "id": "xy6lRfhoe0Sj"
      }
    },
    {
      "cell_type": "code",
      "source": [
        "\n",
        "X_train, X_val, y_train, y_val = train_test_split(train_data[features], train_data[target], test_size=0.2, random_state=42)"
      ],
      "metadata": {
        "id": "mj4HB07peywB"
      },
      "execution_count": 26,
      "outputs": []
    },
    {
      "cell_type": "markdown",
      "source": [
        "**Preprocess the data**"
      ],
      "metadata": {
        "id": "1RO1zQ3tfAGf"
      }
    },
    {
      "cell_type": "code",
      "source": [
        "\n",
        "X_train_scaled = preprocess_data(X_train)\n",
        "X_val_scaled = preprocess_data(X_val)"
      ],
      "metadata": {
        "id": "_lqgjvX5e6PY"
      },
      "execution_count": 27,
      "outputs": []
    },
    {
      "cell_type": "markdown",
      "source": [
        "\n",
        "**Initialize models**"
      ],
      "metadata": {
        "id": "bphqjwllfMKN"
      }
    },
    {
      "cell_type": "code",
      "source": [
        "\n",
        "models = {\n",
        "    'RandomForest': RandomForestClassifier(random_state=42),\n",
        "    'GradientBoosting': GradientBoostingClassifier(random_state=42),\n",
        "    'SVM': SVC(kernel='rbf', random_state=42)\n",
        "}"
      ],
      "metadata": {
        "id": "-sXsb10yfILs"
      },
      "execution_count": 28,
      "outputs": []
    },
    {
      "cell_type": "markdown",
      "source": [
        "**Train and evaluate models**"
      ],
      "metadata": {
        "id": "DGFJGV9yfdeZ"
      }
    },
    {
      "cell_type": "code",
      "source": [
        "\n",
        "best_model = None\n",
        "best_f1 = 0\n",
        "\n",
        "for name, model in models.items():\n",
        "    model.fit(X_train_scaled, y_train)\n",
        "    y_pred = model.predict(X_val_scaled)\n",
        "    f1 = f1_score(y_val, y_pred, average='weighted')\n",
        "    print(f\"{name} F1 Score: {f1}\")\n",
        "    if f1 > best_f1:\n",
        "        best_f1 = f1\n",
        "        best_model = model\n",
        "\n",
        "print(f\"Best Model: {best_model}\")\n"
      ],
      "metadata": {
        "id": "OYiqkBu1fb94",
        "outputId": "8d87d3c0-80bb-4888-a720-3c03051626fe",
        "colab": {
          "base_uri": "https://localhost:8080/"
        }
      },
      "execution_count": 29,
      "outputs": [
        {
          "output_type": "stream",
          "name": "stdout",
          "text": [
            "RandomForest F1 Score: 1.0\n",
            "GradientBoosting F1 Score: 0.9788600175237674\n",
            "SVM F1 Score: 1.0\n",
            "Best Model: RandomForestClassifier(random_state=42)\n"
          ]
        }
      ]
    },
    {
      "cell_type": "markdown",
      "source": [
        "**Preprocess the test data**"
      ],
      "metadata": {
        "id": "25nuZklbfmpu"
      }
    },
    {
      "cell_type": "code",
      "source": [
        "\n",
        "X_test_scaled = preprocess_data(test_data[features])"
      ],
      "metadata": {
        "id": "Ol4k1c3FflA2"
      },
      "execution_count": 30,
      "outputs": []
    },
    {
      "cell_type": "markdown",
      "source": [
        "**Make predictions on the test set using the best model**"
      ],
      "metadata": {
        "id": "K_PfMDSIfzWH"
      }
    },
    {
      "cell_type": "code",
      "source": [
        "\n",
        "y_pred_test = best_model.predict(X_test_scaled)"
      ],
      "metadata": {
        "id": "SlJFmOwWfsH1"
      },
      "execution_count": 31,
      "outputs": []
    },
    {
      "cell_type": "markdown",
      "source": [
        "**Evaluate the model on the test set**"
      ],
      "metadata": {
        "id": "W5yKcAiwf8uR"
      }
    },
    {
      "cell_type": "code",
      "source": [
        "\n",
        "f1_test = f1_score(test_data[target], y_pred_test, average='weighted')\n",
        "print(f\"Best Model F1 Score on Test Set: {f1_test}\")\n"
      ],
      "metadata": {
        "id": "gUxDRtk6f5tT",
        "outputId": "4d5702ad-d690-408c-80ab-8ecadf3ca23b",
        "colab": {
          "base_uri": "https://localhost:8080/"
        }
      },
      "execution_count": 32,
      "outputs": [
        {
          "output_type": "stream",
          "name": "stdout",
          "text": [
            "Best Model F1 Score on Test Set: 0.2942237416760795\n"
          ]
        }
      ]
    }
  ]
}